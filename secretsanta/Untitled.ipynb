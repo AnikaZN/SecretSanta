{
 "cells": [
  {
   "cell_type": "code",
   "execution_count": 7,
   "metadata": {},
   "outputs": [
    {
     "name": "stdout",
     "output_type": "stream",
     "text": [
      "Jeremiah has Trevor\n",
      "Anika has Ashley\n",
      "Trevor has Anika\n",
      "Ashley has Allie\n",
      "Allie has Jeremiah\n"
     ]
    }
   ],
   "source": [
    "import random\n",
    "\n",
    "def secret_santa(people, people2):\n",
    "    assignments = []\n",
    "    for x in people:\n",
    "        y = random.choice(people2)\n",
    "        assignment = [x, y]\n",
    "        while x == y or assignment == ['Jeremiah', 'Anika'] or assignment == ['Jeremiah', 'Anika']:\n",
    "            y = random.choice(people2)\n",
    "            assignment = [x, y]\n",
    "        assignments.append(assignment)\n",
    "        people2.remove(y)\n",
    "    for item in assignments:\n",
    "        print(item[0], 'has', item[1])\n",
    "        \n",
    "giver = ['Jeremiah', 'Anika', 'Trevor', 'Ashley', 'Allie']\n",
    "receiver = ['Jeremiah', 'Anika', 'Trevor', 'Ashley', 'Allie']\n",
    "message = secret_santa(giver, receiver)\n",
    "message"
   ]
  },
  {
   "cell_type": "code",
   "execution_count": null,
   "metadata": {},
   "outputs": [],
   "source": []
  }
 ],
 "metadata": {
  "kernelspec": {
   "display_name": "Python 3",
   "language": "python",
   "name": "python3"
  },
  "language_info": {
   "codemirror_mode": {
    "name": "ipython",
    "version": 3
   },
   "file_extension": ".py",
   "mimetype": "text/x-python",
   "name": "python",
   "nbconvert_exporter": "python",
   "pygments_lexer": "ipython3",
   "version": "3.7.4"
  }
 },
 "nbformat": 4,
 "nbformat_minor": 2
}
